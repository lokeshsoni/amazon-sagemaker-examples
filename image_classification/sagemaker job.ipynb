{
 "cells": [
  {
   "cell_type": "code",
   "execution_count": null,
   "id": "b707ec8b",
   "metadata": {},
   "outputs": [],
   "source": [
    "                                    # !pip install -U sagemaker"
   ]
  },
  {
   "cell_type": "code",
   "execution_count": null,
   "id": "cf7a43de",
   "metadata": {},
   "outputs": [],
   "source": [
    "from datetime import datetime"
   ]
  },
  {
   "cell_type": "code",
   "execution_count": 1,
   "id": "6d9492c6",
   "metadata": {},
   "outputs": [
    {
     "data": {
      "text/plain": [
       "'2.45.0'"
      ]
     },
     "execution_count": 1,
     "metadata": {},
     "output_type": "execute_result"
    }
   ],
   "source": [
    "import sagemaker\n",
    "sagemaker.__version__"
   ]
  },
  {
   "cell_type": "code",
   "execution_count": 6,
   "id": "486556ab",
   "metadata": {},
   "outputs": [],
   "source": [
    "from sagemaker.tensorflow import TensorFlow"
   ]
  },
  {
   "cell_type": "code",
   "execution_count": 7,
   "id": "9ffa3288",
   "metadata": {},
   "outputs": [],
   "source": [
    "from sagemaker import get_execution_role\n",
    "role = get_execution_role()"
   ]
  },
  {
   "cell_type": "code",
   "execution_count": 2,
   "id": "015a1d05",
   "metadata": {},
   "outputs": [],
   "source": [
    "sagemaker_session = sagemaker.Session()\n",
    "bucket = sagemaker_session.default_bucket()"
   ]
  },
  {
   "cell_type": "code",
   "execution_count": 43,
   "id": "99f82d47",
   "metadata": {},
   "outputs": [],
   "source": [
    "data_path = f's3://{bucket}/image_classification/cats_and_dogs_small'"
   ]
  },
  {
   "cell_type": "code",
   "execution_count": 45,
   "id": "2132256f",
   "metadata": {},
   "outputs": [],
   "source": [
    "!aws s3 sync cats_and_dogs_small/ $data_path/"
   ]
  },
  {
   "cell_type": "code",
   "execution_count": 46,
   "id": "3a3fda39",
   "metadata": {},
   "outputs": [
    {
     "name": "stdout",
     "output_type": "stream",
     "text": [
      "                           PRE test/\n",
      "                           PRE train/\n",
      "                           PRE validation/\n"
     ]
    }
   ],
   "source": [
    "!aws s3 ls $data_path/"
   ]
  },
  {
   "cell_type": "code",
   "execution_count": 47,
   "id": "c3ceb0e6",
   "metadata": {},
   "outputs": [],
   "source": [
    "train_data_path = f'{data_path}/train'\n",
    "test_data_path = f'{data_path}/test'\n",
    "validation_data_path = f'{data_path}/validation'"
   ]
  },
  {
   "cell_type": "code",
   "execution_count": 140,
   "id": "8a5a8984",
   "metadata": {},
   "outputs": [],
   "source": [
    "def get_training_info():\n",
    "    timestamp = str(datetime.now())\n",
    "\n",
    "    for symbol in [' ', ':', '.']:\n",
    "        timestamp = timestamp.replace(symbol, '-')\n",
    "\n",
    "    job_name = f'cats-dogs-{timestamp}'\n",
    "    return job_name"
   ]
  },
  {
   "cell_type": "code",
   "execution_count": 52,
   "id": "7b0de348",
   "metadata": {},
   "outputs": [],
   "source": [
    "train_data = sagemaker.inputs.TrainingInput(\n",
    "    s3_data=train_data_path,\n",
    "    distribution='FullyReplicated',\n",
    "    content_type='application/x-image',\n",
    "    s3_data_type='S3Prefix'\n",
    ")\n",
    "\n",
    "validation_data = sagemaker.inputs.TrainingInput(\n",
    "    s3_data=validation_data_path,\n",
    "    distribution='FullyReplicated',\n",
    "    content_type='application/x-image',\n",
    "    s3_data_type='S3Prefix'\n",
    ")\n",
    "\n",
    "test_data = sagemaker.inputs.TrainingInput(\n",
    "    s3_data=test_data_path,\n",
    "    distribution='FullyReplicated',\n",
    "    content_type='application/x-image',\n",
    "    s3_data_type='S3Prefix'\n",
    ")"
   ]
  },
  {
   "cell_type": "code",
   "execution_count": 101,
   "id": "66baab19",
   "metadata": {},
   "outputs": [],
   "source": [
    "inputs = {\n",
    "    'train': train_data_path,\n",
    "    'test': test_data_path,\n",
    "    'validation': validation_data_path,\n",
    "}\n",
    "\n",
    "# inputs = {\n",
    "#     'train': train_data,\n",
    "#     'test': test_data,\n",
    "#     'validation': validation_data,\n",
    "# }"
   ]
  },
  {
   "cell_type": "code",
   "execution_count": 139,
   "id": "39bbbbb3",
   "metadata": {},
   "outputs": [
    {
     "data": {
      "text/plain": [
       "'s3://sagemaker-us-east-1-448873806592/image_classification/cats_and_dogs_small/output/cats-dogs-2021-06-14-06-27-27-836229'"
      ]
     },
     "execution_count": 139,
     "metadata": {},
     "output_type": "execute_result"
    }
   ],
   "source": [
    "model_output"
   ]
  },
  {
   "cell_type": "code",
   "execution_count": 164,
   "id": "c712331a",
   "metadata": {},
   "outputs": [
    {
     "name": "stdout",
     "output_type": "stream",
     "text": [
      "2021-06-14 07:11:00 Starting - Starting the training job...\n",
      "2021-06-14 07:11:26 Starting - Launching requested ML instancesProfilerReport-1623654660: InProgress\n",
      "......\n",
      "2021-06-14 07:12:27 Starting - Preparing the instances for training......\n",
      "2021-06-14 07:13:27 Downloading - Downloading input data...\n",
      "2021-06-14 07:13:52 Training - Downloading the training image..\u001b[34m2021-06-14 07:14:08.501038: W tensorflow/core/profiler/internal/smprofiler_timeline.cc:460] Initializing the SageMaker Profiler.\u001b[0m\n",
      "\u001b[34m2021-06-14 07:14:08.506179: W tensorflow/core/profiler/internal/smprofiler_timeline.cc:105] SageMaker Profiler is not enabled. The timeline writer thread will not be started, future recorded events will be dropped.\u001b[0m\n",
      "\u001b[34m2021-06-14 07:14:08.624164: W tensorflow/core/profiler/internal/smprofiler_timeline.cc:460] Initializing the SageMaker Profiler.\u001b[0m\n",
      "\u001b[34m2021-06-14 07:14:12,686 sagemaker-training-toolkit INFO     Imported framework sagemaker_tensorflow_container.training\u001b[0m\n",
      "\u001b[34m2021-06-14 07:14:12,694 sagemaker-training-toolkit INFO     No GPUs detected (normal if no gpus installed)\u001b[0m\n",
      "\u001b[34m2021-06-14 07:14:13,268 sagemaker-training-toolkit INFO     No GPUs detected (normal if no gpus installed)\u001b[0m\n",
      "\u001b[34m2021-06-14 07:14:13,286 sagemaker-training-toolkit INFO     No GPUs detected (normal if no gpus installed)\u001b[0m\n",
      "\u001b[34m2021-06-14 07:14:13,304 sagemaker-training-toolkit INFO     No GPUs detected (normal if no gpus installed)\u001b[0m\n",
      "\u001b[34m2021-06-14 07:14:13,315 sagemaker-training-toolkit INFO     Invoking user script\n",
      "\u001b[0m\n",
      "\u001b[34mTraining Env:\n",
      "\u001b[0m\n",
      "\u001b[34m{\n",
      "    \"additional_framework_parameters\": {},\n",
      "    \"channel_input_dirs\": {\n",
      "        \"test\": \"/opt/ml/input/data/test\",\n",
      "        \"validation\": \"/opt/ml/input/data/validation\",\n",
      "        \"train\": \"/opt/ml/input/data/train\"\n",
      "    },\n",
      "    \"current_host\": \"algo-1\",\n",
      "    \"framework_module\": \"sagemaker_tensorflow_container.training:main\",\n",
      "    \"hosts\": [\n",
      "        \"algo-1\"\n",
      "    ],\n",
      "    \"hyperparameters\": {\n",
      "        \"model_dir\": \"s3://sagemaker-us-east-1-448873806592/image_classification/cats_and_dogs_small/output/cats-dogs-2021-06-14-07-11-00-382353/\"\n",
      "    },\n",
      "    \"input_config_dir\": \"/opt/ml/input/config\",\n",
      "    \"input_data_config\": {\n",
      "        \"test\": {\n",
      "            \"TrainingInputMode\": \"File\",\n",
      "            \"S3DistributionType\": \"FullyReplicated\",\n",
      "            \"RecordWrapperType\": \"None\"\n",
      "        },\n",
      "        \"validation\": {\n",
      "            \"TrainingInputMode\": \"File\",\n",
      "            \"S3DistributionType\": \"FullyReplicated\",\n",
      "            \"RecordWrapperType\": \"None\"\n",
      "        },\n",
      "        \"train\": {\n",
      "            \"TrainingInputMode\": \"File\",\n",
      "            \"S3DistributionType\": \"FullyReplicated\",\n",
      "            \"RecordWrapperType\": \"None\"\n",
      "        }\n",
      "    },\n",
      "    \"input_dir\": \"/opt/ml/input\",\n",
      "    \"is_master\": true,\n",
      "    \"job_name\": \"cats-dogs-2021-06-14-07-11-00-382353-2021-06-14-07-11-00-458\",\n",
      "    \"log_level\": 20,\n",
      "    \"master_hostname\": \"algo-1\",\n",
      "    \"model_dir\": \"/opt/ml/model\",\n",
      "    \"module_dir\": \"s3://sagemaker-us-east-1-448873806592/cats-dogs-2021-06-14-07-11-00-382353-2021-06-14-07-11-00-458/source/sourcedir.tar.gz\",\n",
      "    \"module_name\": \"model_train\",\n",
      "    \"network_interface_name\": \"eth0\",\n",
      "    \"num_cpus\": 2,\n",
      "    \"num_gpus\": 0,\n",
      "    \"output_data_dir\": \"/opt/ml/output/data\",\n",
      "    \"output_dir\": \"/opt/ml/output\",\n",
      "    \"output_intermediate_dir\": \"/opt/ml/output/intermediate\",\n",
      "    \"resource_config\": {\n",
      "        \"current_host\": \"algo-1\",\n",
      "        \"hosts\": [\n",
      "            \"algo-1\"\n",
      "        ],\n",
      "        \"network_interface_name\": \"eth0\"\n",
      "    },\n",
      "    \"user_entry_point\": \"model_train.py\"\u001b[0m\n",
      "\u001b[34m}\n",
      "\u001b[0m\n",
      "\u001b[34mEnvironment variables:\n",
      "\u001b[0m\n",
      "\u001b[34mSM_HOSTS=[\"algo-1\"]\u001b[0m\n",
      "\u001b[34mSM_NETWORK_INTERFACE_NAME=eth0\u001b[0m\n",
      "\u001b[34mSM_HPS={\"model_dir\":\"s3://sagemaker-us-east-1-448873806592/image_classification/cats_and_dogs_small/output/cats-dogs-2021-06-14-07-11-00-382353/\"}\u001b[0m\n",
      "\u001b[34mSM_USER_ENTRY_POINT=model_train.py\u001b[0m\n",
      "\u001b[34mSM_FRAMEWORK_PARAMS={}\u001b[0m\n",
      "\u001b[34mSM_RESOURCE_CONFIG={\"current_host\":\"algo-1\",\"hosts\":[\"algo-1\"],\"network_interface_name\":\"eth0\"}\u001b[0m\n",
      "\u001b[34mSM_INPUT_DATA_CONFIG={\"test\":{\"RecordWrapperType\":\"None\",\"S3DistributionType\":\"FullyReplicated\",\"TrainingInputMode\":\"File\"},\"train\":{\"RecordWrapperType\":\"None\",\"S3DistributionType\":\"FullyReplicated\",\"TrainingInputMode\":\"File\"},\"validation\":{\"RecordWrapperType\":\"None\",\"S3DistributionType\":\"FullyReplicated\",\"TrainingInputMode\":\"File\"}}\u001b[0m\n",
      "\u001b[34mSM_OUTPUT_DATA_DIR=/opt/ml/output/data\u001b[0m\n",
      "\u001b[34mSM_CHANNELS=[\"test\",\"train\",\"validation\"]\u001b[0m\n",
      "\u001b[34mSM_CURRENT_HOST=algo-1\u001b[0m\n",
      "\u001b[34mSM_MODULE_NAME=model_train\u001b[0m\n",
      "\u001b[34mSM_LOG_LEVEL=20\u001b[0m\n",
      "\u001b[34mSM_FRAMEWORK_MODULE=sagemaker_tensorflow_container.training:main\u001b[0m\n",
      "\u001b[34mSM_INPUT_DIR=/opt/ml/input\u001b[0m\n",
      "\u001b[34mSM_INPUT_CONFIG_DIR=/opt/ml/input/config\u001b[0m\n",
      "\u001b[34mSM_OUTPUT_DIR=/opt/ml/output\u001b[0m\n",
      "\u001b[34mSM_NUM_CPUS=2\u001b[0m\n",
      "\u001b[34mSM_NUM_GPUS=0\u001b[0m\n",
      "\u001b[34mSM_MODEL_DIR=/opt/ml/model\u001b[0m\n",
      "\u001b[34mSM_MODULE_DIR=s3://sagemaker-us-east-1-448873806592/cats-dogs-2021-06-14-07-11-00-382353-2021-06-14-07-11-00-458/source/sourcedir.tar.gz\u001b[0m\n",
      "\u001b[34mSM_TRAINING_ENV={\"additional_framework_parameters\":{},\"channel_input_dirs\":{\"test\":\"/opt/ml/input/data/test\",\"train\":\"/opt/ml/input/data/train\",\"validation\":\"/opt/ml/input/data/validation\"},\"current_host\":\"algo-1\",\"framework_module\":\"sagemaker_tensorflow_container.training:main\",\"hosts\":[\"algo-1\"],\"hyperparameters\":{\"model_dir\":\"s3://sagemaker-us-east-1-448873806592/image_classification/cats_and_dogs_small/output/cats-dogs-2021-06-14-07-11-00-382353/\"},\"input_config_dir\":\"/opt/ml/input/config\",\"input_data_config\":{\"test\":{\"RecordWrapperType\":\"None\",\"S3DistributionType\":\"FullyReplicated\",\"TrainingInputMode\":\"File\"},\"train\":{\"RecordWrapperType\":\"None\",\"S3DistributionType\":\"FullyReplicated\",\"TrainingInputMode\":\"File\"},\"validation\":{\"RecordWrapperType\":\"None\",\"S3DistributionType\":\"FullyReplicated\",\"TrainingInputMode\":\"File\"}},\"input_dir\":\"/opt/ml/input\",\"is_master\":true,\"job_name\":\"cats-dogs-2021-06-14-07-11-00-382353-2021-06-14-07-11-00-458\",\"log_level\":20,\"master_hostname\":\"algo-1\",\"model_dir\":\"/opt/ml/model\",\"module_dir\":\"s3://sagemaker-us-east-1-448873806592/cats-dogs-2021-06-14-07-11-00-382353-2021-06-14-07-11-00-458/source/sourcedir.tar.gz\",\"module_name\":\"model_train\",\"network_interface_name\":\"eth0\",\"num_cpus\":2,\"num_gpus\":0,\"output_data_dir\":\"/opt/ml/output/data\",\"output_dir\":\"/opt/ml/output\",\"output_intermediate_dir\":\"/opt/ml/output/intermediate\",\"resource_config\":{\"current_host\":\"algo-1\",\"hosts\":[\"algo-1\"],\"network_interface_name\":\"eth0\"},\"user_entry_point\":\"model_train.py\"}\u001b[0m\n",
      "\u001b[34mSM_USER_ARGS=[\"--model_dir\",\"s3://sagemaker-us-east-1-448873806592/image_classification/cats_and_dogs_small/output/cats-dogs-2021-06-14-07-11-00-382353/\"]\u001b[0m\n",
      "\u001b[34mSM_OUTPUT_INTERMEDIATE_DIR=/opt/ml/output/intermediate\u001b[0m\n",
      "\u001b[34mSM_CHANNEL_TEST=/opt/ml/input/data/test\u001b[0m\n",
      "\u001b[34mSM_CHANNEL_VALIDATION=/opt/ml/input/data/validation\u001b[0m\n",
      "\u001b[34mSM_CHANNEL_TRAIN=/opt/ml/input/data/train\u001b[0m\n",
      "\u001b[34mSM_HP_MODEL_DIR=s3://sagemaker-us-east-1-448873806592/image_classification/cats_and_dogs_small/output/cats-dogs-2021-06-14-07-11-00-382353/\u001b[0m\n",
      "\u001b[34mPYTHONPATH=/opt/ml/code:/usr/local/bin:/usr/local/lib/python37.zip:/usr/local/lib/python3.7:/usr/local/lib/python3.7/lib-dynload:/usr/local/lib/python3.7/site-packages\n",
      "\u001b[0m\n",
      "\u001b[34mInvoking script with the following command:\n",
      "\u001b[0m\n",
      "\u001b[34m/usr/local/bin/python3.7 model_train.py --model_dir s3://sagemaker-us-east-1-448873806592/image_classification/cats_and_dogs_small/output/cats-dogs-2021-06-14-07-11-00-382353/\n",
      "\n",
      "\n",
      "\u001b[0m\n",
      "\u001b[34m2021-06-14 07:14:13,352 sagemaker_tensorflow_container.training WARNING  Your model will NOT be servable with SageMaker TensorFlow Serving container. The model artifact was not saved in the TensorFlow SavedModel directory structure:\u001b[0m\n",
      "\u001b[34mhttps://www.tensorflow.org/guide/saved_model#structure_of_a_savedmodel_directory\u001b[0m\n",
      "\u001b[34m2021-06-14 07:14:13,352 sagemaker-training-toolkit INFO     Reporting training SUCCESS\u001b[0m\n",
      "\n",
      "2021-06-14 07:14:27 Uploading - Uploading generated training model\n",
      "2021-06-14 07:14:27 Completed - Training job completed\n",
      "Training seconds: 58\n",
      "Billable seconds: 58\n"
     ]
    }
   ],
   "source": [
    "job_name = get_training_info()\n",
    "\n",
    "estimator = TensorFlow(\n",
    "    source_dir='src/',\n",
    "    entry_point=\"model_train.py\",\n",
    "    role=role,\n",
    "    instance_count=1,\n",
    "#     instance_type=\"ml.p3.2xlarge\",\n",
    "    instance_type=\"ml.m5.large\",\n",
    "#     instance_type='local',\n",
    "    framework_version=\"2.4.1\",\n",
    "    py_version=\"py37\",\n",
    "    model_dir=f'{data_path}/output/{job_name}/',\n",
    "    output_path=f'{data_path}/output/'\n",
    ")\n",
    "\n",
    "estimator.fit(inputs=inputs, job_name=job_name)"
   ]
  },
  {
   "cell_type": "code",
   "execution_count": 142,
   "id": "9f185451",
   "metadata": {},
   "outputs": [],
   "source": [
    "output_dir = 's3://sagemaker-us-east-1-448873806592/image_classification/cats_and_dogs_small/output'"
   ]
  },
  {
   "cell_type": "code",
   "execution_count": 168,
   "id": "425b439c",
   "metadata": {},
   "outputs": [
    {
     "name": "stdout",
     "output_type": "stream",
     "text": [
      "2021-06-14 07:14:18        139 model.tar.gz\n",
      "2021-06-14 07:14:18        142 output.tar.gz\n"
     ]
    }
   ],
   "source": [
    "!aws s3 ls $output_dir/cats-dogs-2021-06-14-07-11-00-382353-2021-06-14-07-11-00-458/output/"
   ]
  },
  {
   "cell_type": "code",
   "execution_count": 118,
   "id": "6c5e4b79",
   "metadata": {},
   "outputs": [
    {
     "name": "stdout",
     "output_type": "stream",
     "text": [
      "download: s3://sagemaker-us-east-1-448873806592/cats-dogs-2021-06-14-06-07-33-546568/output/output.tar.gz to ./output.tar.gz\n"
     ]
    }
   ],
   "source": [
    "!aws s3 cp s3://sagemaker-us-east-1-448873806592/cats-dogs-2021-06-14-06-07-33-546568/output/"
   ]
  },
  {
   "cell_type": "code",
   "execution_count": 157,
   "id": "16752e9b",
   "metadata": {},
   "outputs": [
    {
     "name": "stdout",
     "output_type": "stream",
     "text": [
      "file_model.txt\n"
     ]
    }
   ],
   "source": [
    "!tar -xvzf model.tar.gz"
   ]
  },
  {
   "cell_type": "code",
   "execution_count": 158,
   "id": "245bfbe8",
   "metadata": {},
   "outputs": [
    {
     "name": "stdout",
     "output_type": "stream",
     "text": [
      "file_model.txt  file_output_data.txt\n"
     ]
    }
   ],
   "source": [
    "ls *txt"
   ]
  },
  {
   "cell_type": "code",
   "execution_count": 110,
   "id": "03352b2d",
   "metadata": {},
   "outputs": [
    {
     "name": "stdout",
     "output_type": "stream",
     "text": [
      "2021-06-14 06:11:23     113027 1623651000.algo-1.json\n"
     ]
    }
   ],
   "source": [
    "!aws s3 ls s3://sagemaker-us-east-1-448873806592/cats-dogs-2021-06-14-06-07-33-546568/profiler-output/system/incremental/2021061406/1623651000.algo-1.json"
   ]
  },
  {
   "cell_type": "code",
   "execution_count": 115,
   "id": "126c2a84",
   "metadata": {},
   "outputs": [
    {
     "name": "stdout",
     "output_type": "stream",
     "text": [
      "2021-06-14 06:11:50        198 CPUBottleneck.json\n"
     ]
    }
   ],
   "source": [
    "!aws s3 ls s3://sagemaker-us-east-1-448873806592/cats-dogs-2021-06-14-06-07-33-546568/rule-output/ProfilerReport-1623650853/profiler-output/profiler-reports/CPUBottleneck.json"
   ]
  },
  {
   "cell_type": "code",
   "execution_count": 117,
   "id": "48c29c5c",
   "metadata": {},
   "outputs": [
    {
     "name": "stdout",
     "output_type": "stream",
     "text": [
      "2021-06-14 06:07:35        675 sourcedir.tar.gz\n"
     ]
    }
   ],
   "source": [
    "!aws s3 ls s3://sagemaker-us-east-1-448873806592/cats-dogs-2021-06-14-06-07-33-546568/source/sourcedir.tar.gz"
   ]
  },
  {
   "cell_type": "code",
   "execution_count": null,
   "id": "dcd31a8b",
   "metadata": {},
   "outputs": [],
   "source": [
    "parser.add_argument('--model_dir', type=str)\n",
    "parser.add_argument('--train', type=str, default=os.environ.get('SM_CHANNEL_TRAIN'))\n",
    "parser.add_argument('--test', type=str, default=os.environ.get('SM_CHANNEL_TEST'))"
   ]
  },
  {
   "cell_type": "code",
   "execution_count": null,
   "id": "2f04e04d",
   "metadata": {},
   "outputs": [],
   "source": []
  },
  {
   "cell_type": "code",
   "execution_count": null,
   "id": "16bb4a8a",
   "metadata": {},
   "outputs": [],
   "source": [
    "\n",
    "sign_estimator.fit(input_data)"
   ]
  },
  {
   "cell_type": "code",
   "execution_count": null,
   "id": "34a6c34b",
   "metadata": {},
   "outputs": [],
   "source": [
    "def model(X_train, y_train, X_val, y_val):    \n",
    "    model = models.Sequential()\n",
    "    # Conv 32x32x1 => 28x28x6.\n",
    "    model.add(layers.Conv2D(filters = 6, kernel_size = (5, 5), strides=(1, 1), padding='valid',\n",
    "                            activation='relu', data_format = 'channels_last', input_shape = (32, 32, 1)))\n",
    "    # Maxpool 28x28x6 => 14x14x6\n",
    "    model.add(layers.MaxPooling2D((2, 2)))\n",
    "    # Conv 14x14x6 => 10x10x16\n",
    "    model.add(layers.Conv2D(16, (5, 5), activation='relu'))\n",
    "    # Maxpool 10x10x16 => 5x5x16\n",
    "    model.add(layers.MaxPooling2D((2, 2)))\n",
    "    # Flatten 5x5x16 => 400\n",
    "    model.add(layers.Flatten())\n",
    "    # Fully connected 400 => 120\n",
    "    model.add(layers.Dense(120, activation='relu'))\n",
    "    # Fully connected 120 => 84\n",
    "    model.add(layers.Dense(84, activation='relu'))\n",
    "    # Dropout\n",
    "    model.add(layers.Dropout(0.2))\n",
    "    # Fully connected, output layer 84 => 43\n",
    "    model.add(layers.Dense(43, activation='softmax'))\n",
    "\n",
    "    model.compile(optimizer='adam', loss='sparse_categorical_crossentropy', metrics=['accuracy'])\n",
    "    model.fit(X_train, y_train, batch_size=128, epochs=10, validation_data=(X_val, y_val))\n",
    "\n",
    "    return model\n",
    "\n",
    "\n",
    "if __name__ == \"__main__\":\n",
    "    args, unknown = _parse_args()\n",
    "\n",
    "    train_data, train_labels = _load_training_data(args.train)\n",
    "    eval_data, eval_labels = _load_validation_data(args.train)\n",
    "\n",
    "    mdl = model(train_data, train_labels, eval_data, eval_labels)\n",
    "\n",
    "    if args.current_host == args.hosts[0]:\n",
    "        # save model to an S3 directory with version number '00000001'\n",
    "        mdl.save(os.path.join(args.sm_model_dir, '000000001'), 'my_model.h5')"
   ]
  }
 ],
 "metadata": {
  "kernelspec": {
   "display_name": "conda_python3",
   "language": "python",
   "name": "conda_python3"
  },
  "language_info": {
   "codemirror_mode": {
    "name": "ipython",
    "version": 3
   },
   "file_extension": ".py",
   "mimetype": "text/x-python",
   "name": "python",
   "nbconvert_exporter": "python",
   "pygments_lexer": "ipython3",
   "version": "3.6.13"
  }
 },
 "nbformat": 4,
 "nbformat_minor": 5
}
