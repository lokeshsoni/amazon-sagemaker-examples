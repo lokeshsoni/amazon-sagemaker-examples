{
 "cells": [
  {
   "cell_type": "code",
   "execution_count": 1,
   "metadata": {},
   "outputs": [],
   "source": [
    "%load_ext autoreload\n",
    "%autoreload 2"
   ]
  },
  {
   "cell_type": "code",
   "execution_count": 6,
   "metadata": {},
   "outputs": [
    {
     "name": "stdout",
     "output_type": "stream",
     "text": [
      "2021-06-11 08:43:50.732622: I tensorflow/stream_executor/platform/default/dso_loader.cc:48] Successfully opened dynamic library libcudart.so.10.1\n",
      "2.3.2\n",
      "Found 2000 files belonging to 2 classes.\n",
      "2021-06-11 08:43:52.569515: I tensorflow/stream_executor/platform/default/dso_loader.cc:48] Successfully opened dynamic library libcuda.so.1\n",
      "2021-06-11 08:43:52.732808: E tensorflow/stream_executor/cuda/cuda_driver.cc:314] failed call to cuInit: CUDA_ERROR_NO_DEVICE: no CUDA-capable device is detected\n",
      "2021-06-11 08:43:52.732873: I tensorflow/stream_executor/cuda/cuda_diagnostics.cc:156] kernel driver does not appear to be running on this host (ip-172-16-71-208): /proc/driver/nvidia/version does not exist\n",
      "2021-06-11 08:43:52.733571: I tensorflow/core/platform/cpu_feature_guard.cc:142] This TensorFlow binary is optimized with oneAPI Deep Neural Network Library (oneDNN)to use the following CPU instructions in performance-critical operations:  AVX2 FMA\n",
      "To enable them in other operations, rebuild TensorFlow with the appropriate compiler flags.\n",
      "2021-06-11 08:43:52.742157: I tensorflow/core/platform/profile_utils/cpu_utils.cc:104] CPU Frequency: 2300050000 Hz\n",
      "2021-06-11 08:43:52.742341: I tensorflow/compiler/xla/service/service.cc:168] XLA service 0x55bd79792e20 initialized for platform Host (this does not guarantee that XLA will be used). Devices:\n",
      "2021-06-11 08:43:52.742363: I tensorflow/compiler/xla/service/service.cc:176]   StreamExecutor device (0): Host, Default Version\n",
      "Found 800 files belonging to 2 classes.\n",
      "Found 200 files belonging to 2 classes.\n",
      "Epoch 1/2\n",
      "63/63 [==============================] - 126s 2s/step - loss: 0.3115 - accuracy: 0.8565 - val_loss: 0.1540 - val_accuracy: 0.9737\n",
      "Epoch 2/2\n",
      "63/63 [==============================] - 125s 2s/step - loss: 0.1419 - accuracy: 0.9405 - val_loss: 0.0714 - val_accuracy: 0.9762\n",
      "7/7 [==============================] - 2s 282ms/step - loss: 0.0628 - accuracy: 0.9850\n",
      "Test accuracy without fine-tuning : 0.9850000143051147\n",
      "Epoch 2/4\n",
      "63/63 [==============================] - 60s 945ms/step - loss: 0.0799 - accuracy: 0.9680 - val_loss: 0.0513 - val_accuracy: 0.9762\n",
      "Epoch 3/4\n",
      "63/63 [==============================] - 63s 998ms/step - loss: 0.0583 - accuracy: 0.9745 - val_loss: 0.0462 - val_accuracy: 0.9837\n",
      "Epoch 4/4\n",
      "63/63 [==============================] - 57s 897ms/step - loss: 0.0635 - accuracy: 0.9745 - val_loss: 0.0459 - val_accuracy: 0.9837\n",
      "Traceback (most recent call last):\n",
      "  File \"train.py\", line 127, in <module>\n",
      "    acc += history_fine.history['accuracy']\n",
      "NameError: name 'acc' is not defined\n"
     ]
    }
   ],
   "source": [
    "!python  train.py"
   ]
  },
  {
   "cell_type": "code",
   "execution_count": 7,
   "metadata": {},
   "outputs": [
    {
     "name": "stdout",
     "output_type": "stream",
     "text": [
      "Filesystem      Size  Used Avail Use% Mounted on\n",
      "devtmpfs        2.0G   64K  2.0G   1% /dev\n",
      "tmpfs           2.0G     0  2.0G   0% /dev/shm\n",
      "/dev/xvda1      104G   87G   17G  84% /\n",
      "/dev/xvdf       4.9G  964M  3.7G  21% /home/ec2-user/SageMaker\n"
     ]
    }
   ],
   "source": [
    "!df -h"
   ]
  },
  {
   "cell_type": "code",
   "execution_count": null,
   "metadata": {
    "execution": {
     "iopub.execute_input": "2021-05-19T11:12:24.365106Z",
     "iopub.status.busy": "2021-05-19T11:12:24.363183Z",
     "iopub.status.idle": "2021-05-19T11:12:25.506824Z",
     "shell.execute_reply": "2021-05-19T11:12:25.506292Z"
    },
    "id": "19IQ2gqneqmS"
   },
   "outputs": [],
   "source": []
  },
  {
   "cell_type": "code",
   "execution_count": null,
   "metadata": {},
   "outputs": [],
   "source": [
    "image_batch, label_batch = next(iter(train_dataset))\n",
    "feature_batch = base_model(image_batch)\n",
    "print(feature_batch.shape)"
   ]
  },
  {
   "cell_type": "markdown",
   "metadata": {
    "id": "rlx56nQtfe8Y"
   },
   "source": [
    "## Feature extraction"
   ]
  },
  {
   "cell_type": "markdown",
   "metadata": {
    "id": "CnMLieHBCwil"
   },
   "source": [
    "### Freeze the convolutional base"
   ]
  },
  {
   "cell_type": "code",
   "execution_count": null,
   "metadata": {
    "execution": {
     "iopub.execute_input": "2021-05-19T11:12:26.971107Z",
     "iopub.status.busy": "2021-05-19T11:12:26.970516Z",
     "iopub.status.idle": "2021-05-19T11:12:26.972619Z",
     "shell.execute_reply": "2021-05-19T11:12:26.973002Z"
    },
    "id": "OTCJH4bphOeo"
   },
   "outputs": [],
   "source": [
    "base_model.trainable = False"
   ]
  },
  {
   "cell_type": "markdown",
   "metadata": {
    "id": "jsNHwpm7BeVM"
   },
   "source": [
    "### Important note about BatchNormalization layers"
   ]
  },
  {
   "cell_type": "markdown",
   "metadata": {
    "id": "wdMRM8YModbk"
   },
   "source": [
    "### Add a classification head"
   ]
  },
  {
   "cell_type": "markdown",
   "metadata": {
    "id": "4G5O4jd6TuAG"
   },
   "source": [
    "### Continue training the model"
   ]
  },
  {
   "cell_type": "code",
   "execution_count": null,
   "metadata": {},
   "outputs": [],
   "source": []
  },
  {
   "cell_type": "code",
   "execution_count": null,
   "metadata": {},
   "outputs": [],
   "source": []
  },
  {
   "cell_type": "code",
   "execution_count": null,
   "metadata": {
    "execution": {
     "iopub.execute_input": "2021-05-19T11:12:46.288559Z",
     "iopub.status.busy": "2021-05-19T11:12:46.287860Z",
     "iopub.status.idle": "2021-05-19T11:13:11.774788Z",
     "shell.execute_reply": "2021-05-19T11:13:11.775182Z"
    },
    "id": "ECQLkAsFTlun"
   },
   "outputs": [],
   "source": []
  },
  {
   "cell_type": "code",
   "execution_count": null,
   "metadata": {
    "execution": {
     "iopub.execute_input": "2021-05-19T11:13:11.780043Z",
     "iopub.status.busy": "2021-05-19T11:13:11.779326Z",
     "iopub.status.idle": "2021-05-19T11:13:11.781286Z",
     "shell.execute_reply": "2021-05-19T11:13:11.781682Z"
    },
    "id": "PpA8PlpQKygw"
   },
   "outputs": [],
   "source": []
  },
  {
   "cell_type": "markdown",
   "metadata": {
    "id": "R6cWgjgfrsn5"
   },
   "source": [
    "### Evaluation and prediction"
   ]
  },
  {
   "cell_type": "code",
   "execution_count": null,
   "metadata": {
    "execution": {
     "iopub.execute_input": "2021-05-19T11:13:12.090878Z",
     "iopub.status.busy": "2021-05-19T11:13:12.090326Z",
     "iopub.status.idle": "2021-05-19T11:13:12.257500Z",
     "shell.execute_reply": "2021-05-19T11:13:12.256976Z"
    },
    "id": "2KyNhagHwfar"
   },
   "outputs": [],
   "source": []
  },
  {
   "cell_type": "code",
   "execution_count": null,
   "metadata": {},
   "outputs": [],
   "source": [
    "image_batch, label_batch = test_dataset.as_numpy_iterator().next()"
   ]
  },
  {
   "cell_type": "code",
   "execution_count": null,
   "metadata": {},
   "outputs": [],
   "source": [
    "predictions = model.predict_on_batch(image_batch).flatten()"
   ]
  },
  {
   "cell_type": "code",
   "execution_count": null,
   "metadata": {},
   "outputs": [],
   "source": [
    "predictions = tf.nn.sigmoid(predictions)\n",
    "predictions = tf.where(predictions < 0.5, 0, 1)"
   ]
  },
  {
   "cell_type": "code",
   "execution_count": null,
   "metadata": {},
   "outputs": [],
   "source": [
    "print(f'Predictions:\\n {predictions.numpy()}')\n",
    "print(f'Labels:\\n {label_batch}')"
   ]
  },
  {
   "cell_type": "code",
   "execution_count": null,
   "metadata": {},
   "outputs": [],
   "source": []
  }
 ],
 "metadata": {
  "accelerator": "GPU",
  "colab": {
   "collapsed_sections": [],
   "name": "transfer_learning.ipynb",
   "toc_visible": true
  },
  "kernelspec": {
   "display_name": "conda_amazonei_tensorflow2_p36",
   "language": "python",
   "name": "conda_amazonei_tensorflow2_p36"
  },
  "language_info": {
   "codemirror_mode": {
    "name": "ipython",
    "version": 3
   },
   "file_extension": ".py",
   "mimetype": "text/x-python",
   "name": "python",
   "nbconvert_exporter": "python",
   "pygments_lexer": "ipython3",
   "version": "3.6.13"
  }
 },
 "nbformat": 4,
 "nbformat_minor": 4
}
